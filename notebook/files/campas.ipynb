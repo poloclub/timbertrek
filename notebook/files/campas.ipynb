{
 "cells": [
  {
   "cell_type": "code",
   "execution_count": 10,
   "id": "d970502b-c4c5-4930-91c7-108e6839dfa5",
   "metadata": {},
   "outputs": [],
   "source": [
    "import piplite\n",
    "await piplite.install(['timbertrek'])\n",
    "\n",
    "import js\n",
    "import pandas as pd\n",
    "import timbertrek\n",
    "\n",
    "from io import StringIO\n",
    "from json import loads\n",
    "\n",
    "async def read_file(filename):\n",
    "    \"\"\"\n",
    "    Read JupyterLite embedded file through fetch\n",
    "    \"\"\"\n",
    "\n",
    "    href = js.self.location.href.replace('blob:', '')\n",
    "    a, b = href.split('//')\n",
    "    c, _ = b.split('/')\n",
    "    \n",
    "    res = await js.fetch(f'{a + c}/files/{filename}')\n",
    "    text = await res.text()\n",
    "    return text"
   ]
  },
  {
   "cell_type": "code",
   "execution_count": null,
   "id": "655062f9",
   "metadata": {},
   "outputs": [],
   "source": [
    "pd.read_csv(StringIO(await read_file(\"compas_data.csv\")))"
   ]
  },
  {
   "cell_type": "code",
   "execution_count": 16,
   "id": "dbd11b03-e192-4de8-b59f-2fba5d0e3543",
   "metadata": {},
   "outputs": [],
   "source": [
    "# Load the trie and dataset files\n",
    "trie = loads(await read_file(\"compas_0.01_0.05.json\"))\n",
    "data_df = pd.read_csv(StringIO(await read_file(\"compas_data.csv\")))\n",
    "feature_names = data_df.columns\n",
    "\n",
    "feature_description = {\n",
    "    \"sex\": {\"info\": \"Sex\", \"type\": \"is\", \"short\": \"Sex\"},\n",
    "    \"age\": {\"info\": \"Age\", \"type\": \"count\", \"short\": \"Age\"},\n",
    "    \"juvenile-felonies\": {\n",
    "        \"info\": \"Number of juvenile felonies\",\n",
    "        \"type\": \"count\",\n",
    "        \"short\": \"Juv felony\",\n",
    "    },\n",
    "    \"juvenile-misdemeanors\": {\n",
    "        \"info\": \"Number of juvenile misdemeanors\",\n",
    "        \"type\": \"count\",\n",
    "        \"short\": \"Juv misdemeanor\",\n",
    "    },\n",
    "    \"juvenile-crimes\": {\n",
    "        \"info\": \"Number of juvenile crimes\",\n",
    "        \"type\": \"count\",\n",
    "        \"short\": \"Juv crime\",\n",
    "    },\n",
    "    \"priors\": {\n",
    "        \"info\": \"Number of prior crimes\",\n",
    "        \"type\": \"count\",\n",
    "        \"short\": \"Prior crime\",\n",
    "    },\n",
    "    \"recidivate-within-two-years\": {\n",
    "        \"info\": \"Has recidivated within two years\",\n",
    "        \"type\": \"yes\",\n",
    "        \"short\": \"Recidivated\",\n",
    "    },\n",
    "}\n",
    "\n",
    "decision_paths = timbertrek.transform_trie_to_rules(\n",
    "    trie,\n",
    "    data_df,\n",
    "    feature_names=feature_names,\n",
    "    feature_description=feature_description,\n",
    ")"
   ]
  },
  {
   "cell_type": "code",
   "execution_count": 17,
   "id": "3713cffe-5b86-4e52-88e4-09237c7b785e",
   "metadata": {},
   "outputs": [
    {
     "name": "stderr",
     "output_type": "stream",
     "text": [
      "Generating decision paths from 1364 trees: 100%|██████████| 1364/1364 [00:06<00:00, 211.07it/s]\n"
     ]
    }
   ],
   "source": [
    "timbertrek.visualize(decision_paths, width=450, height=550)"
   ]
  },
  {
   "cell_type": "code",
   "execution_count": null,
   "id": "4caf1876-0539-4b7f-b9c9-9871b32b2d42",
   "metadata": {},
   "outputs": [],
   "source": []
  }
 ],
 "metadata": {
  "kernelspec": {
   "display_name": "Python 3",
   "language": "python",
   "name": "python3"
  },
  "language_info": {
   "codemirror_mode": {
    "name": "ipython",
    "version": 3
   },
   "file_extension": ".py",
   "mimetype": "text/x-python",
   "name": "python",
   "nbconvert_exporter": "python",
   "pygments_lexer": "ipython3",
   "version": "3.7.10"
  }
 },
 "nbformat": 4,
 "nbformat_minor": 5
}
